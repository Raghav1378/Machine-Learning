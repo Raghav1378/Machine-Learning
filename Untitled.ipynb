{
 "cells": [
  {
   "cell_type": "code",
   "execution_count": 1,
   "id": "88647cf6-b161-4c30-a3cd-701ae9ee3eac",
   "metadata": {},
   "outputs": [],
   "source": [
    "import requests"
   ]
  },
  {
   "cell_type": "code",
   "execution_count": 4,
   "id": "1e9ea5d3-c6f7-4fcb-9e09-fabcb22dfb4b",
   "metadata": {},
   "outputs": [],
   "source": [
    "api_key='acc_df10403efdd1203'"
   ]
  },
  {
   "cell_type": "code",
   "execution_count": 5,
   "id": "daee4aed-b981-4474-aa34-ec5eb9af2475",
   "metadata": {},
   "outputs": [],
   "source": [
    "api_secret = '1278e5c6788a8d2065e90fde3d3824b3'"
   ]
  },
  {
   "cell_type": "code",
   "execution_count": 6,
   "id": "4069a8f8-f259-4aa0-acde-ca27eb014940",
   "metadata": {},
   "outputs": [],
   "source": [
    "image_url = 'https://imagga.com/static/images/categorization/skyline-14619_640.jpg'"
   ]
  },
  {
   "cell_type": "code",
   "execution_count": 7,
   "id": "a4b4079f-b41a-4a6e-8e28-5e5f5d690714",
   "metadata": {},
   "outputs": [],
   "source": [
    "\n",
    "response = requests.get(\n",
    "    'https://api.imagga.com/v2/categorizers',\n",
    "    auth=(api_key, api_secret))"
   ]
  },
  {
   "cell_type": "code",
   "execution_count": 17,
   "id": "aa45194f-7fe7-40df-abd3-5c3d848aeb0d",
   "metadata": {},
   "outputs": [
    {
     "name": "stdout",
     "output_type": "stream",
     "text": [
      "['nsfw', 'safe', 'underwear']\n"
     ]
    }
   ],
   "source": [
    "categorizers=response.json()['result']['categorizers']\n",
    "for cat in categorizers:\n",
    "    if cat['id']=='nsfw_beta':\n",
    "        print(cat['labels'])"
   ]
  },
  {
   "cell_type": "markdown",
   "id": "859013f1-b487-4297-9475-2ec1749c6368",
   "metadata": {},
   "source": [
    "# Post "
   ]
  },
  {
   "cell_type": "code",
   "execution_count": 19,
   "id": "90bb4dd1-ec23-4b76-ab84-225e6e84b56b",
   "metadata": {},
   "outputs": [],
   "source": [
    "import requests"
   ]
  },
  {
   "cell_type": "code",
   "execution_count": null,
   "id": "ba74f08f-1257-4d81-abd8-d119dc27a194",
   "metadata": {},
   "outputs": [],
   "source": []
  }
 ],
 "metadata": {
  "kernelspec": {
   "display_name": "Python 3 (ipykernel)",
   "language": "python",
   "name": "python3"
  },
  "language_info": {
   "codemirror_mode": {
    "name": "ipython",
    "version": 3
   },
   "file_extension": ".py",
   "mimetype": "text/x-python",
   "name": "python",
   "nbconvert_exporter": "python",
   "pygments_lexer": "ipython3",
   "version": "3.9.13"
  }
 },
 "nbformat": 4,
 "nbformat_minor": 5
}
