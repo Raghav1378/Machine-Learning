{
 "cells": [
  {
   "cell_type": "markdown",
   "id": "2a80270c-e7de-483d-bafc-33eb412fd656",
   "metadata": {},
   "source": [
    "# KMEANS CLUSTERING BASICS STEPS"
   ]
  },
  {
   "cell_type": "markdown",
   "id": "06ee8ba6-3518-4309-9693-a33451780feb",
   "metadata": {},
   "source": [
    "## Euclidean Distance Formula\n",
    "\n",
    "### In 2D Space\n",
    "\n",
    "Consider two points **(x₁, y₁)** and **(x₂, y₂)** in a 2-dimensional space. The Euclidean Distance **d** between them is given by the formula:\n",
    "\n",
    "**d = √[(x₂ - x₁)² + (y₂ - y₁)²]**\n",
    "\n",
    "**Where:**\n",
    "- **d** is the Euclidean Distance  \n",
    "- **(x₁, y₁)** is the coordinate of the first point  \n",
    "- **(x₂, y₂)** is the coordinate of the second point  \n",
    "\n",
    "---\n",
    "\n",
    "### In 3D Space\n",
    "\n",
    "If the two points are **(x₁, y₁, z₁)** and **(x₂, y₂, z₂)** in a 3-dimensional space, the Euclidean Distance is:\n",
    "\n",
    "**d = √[(x₂ - x₁)² + (y₂ - y₁)² + (z₂ - z₁)²]**\n",
    "\n",
    "**Where:**\n",
    "- **d** is the Euclidean Distance  \n",
    "- **(x₁, y₁, z₁)** is the coordinate of the first point  \n",
    "- **(x₂, y₂, z₂)** is the coordinate of the second point  \n"
   ]
  },
  {
   "cell_type": "markdown",
   "id": "f48079f5-7b91-406b-87cc-79410e8604d2",
   "metadata": {},
   "source": [
    "## 🔶 What is K-Means Clustering?\n",
    "\n",
    "K-Means is an **unsupervised machine learning algorithm** used to **partition a dataset into K distinct, non-overlapping groups** (clusters) based on feature similarity.\n",
    "\n",
    "---\n",
    "\n",
    "## ✅ Step-by-Step Procedure of K-Means Clustering:\n",
    "\n",
    "---\n",
    "\n",
    "### **Step 1: Choose the Number of Clusters (K)**\n",
    "\n",
    "- You decide how many clusters you want the data to be grouped into.\n",
    "- This value, **K**, is a **hyperparameter** and can be chosen using:\n",
    "  - **Domain knowledge**\n",
    "  - **Elbow Method**\n",
    "  - **Silhouette Score**\n",
    "\n",
    "---\n",
    "\n",
    "### **Step 2: Initialize K Centroids Randomly**\n",
    "\n",
    "- Select **K data points randomly** from the dataset as the **initial centroids** (centers of clusters).\n",
    "- Centroid = Mean of all the points in a cluster.\n",
    "- Let these centroids be:\n",
    "\n",
    "$$\n",
    "C_1, C_2, \\dots, C_K\n",
    "$$\n",
    "\n",
    "---\n",
    "\n",
    "### **Step 3: Assign Each Point to the Nearest Centroid (Cluster Assignment)**\n",
    "\n",
    "- For each data point \\( x_i \\), compute the **Euclidean distance** to each centroid \\( C_k \\):\n",
    "\n",
    "$$\n",
    "d(x_i, C_k) = \\sqrt{\\sum_{j=1}^{n} (x_{ij} - C_{kj})^2}\n",
    "$$\n",
    "\n",
    "Where:\n",
    "- \\( x_{ij} \\): j-th feature of point \\( x_i \\)  \n",
    "- \\( C_{kj} \\): j-th feature of centroid \\( C_k \\)\n",
    "\n",
    "- Assign the point to the cluster whose centroid is **closest**.\n",
    "\n",
    "---\n",
    "\n",
    "### **Step 4: Update the Centroids**\n",
    "\n",
    "- After all points are assigned to a cluster, update the centroids:\n",
    "\n",
    "$$\n",
    "C_k = \\frac{1}{|S_k|} \\sum_{x_i \\in S_k} x_i\n",
    "$$\n",
    "\n",
    "Where:\n",
    "- \\( S_k \\): the set of points assigned to cluster \\( k \\)  \n",
    "- \\( |S_k| \\): number of points in cluster \\( k \\)\n",
    "\n",
    "- This moves each centroid to the **mean** of the points in its cluster.\n",
    "\n",
    "---\n",
    "\n",
    "### **Step 5: Repeat Steps 3 and 4 Until Convergence**\n",
    "\n",
    "- Continue:\n",
    "  1. Assigning points to nearest centroid\n",
    "  2. Updating centroids\n",
    "\n",
    "- **Stop when:**\n",
    "  - Assignments no longer change, or  \n",
    "  - Centroids stop moving significantly (below a small threshold \\( \\epsilon \\)), or  \n",
    "  - Max iterations reached\n",
    "\n",
    "---\n",
    "\n",
    "## 📉 Objective Function (What K-Means Optimizes)\n",
    "\n",
    "K-Means aims to **minimize the Within-Cluster Sum of Squares (WCSS)**, also called **inertia**:\n",
    "\n",
    "$$\n",
    "J = \\sum_{k=1}^{K} \\sum_{x_i \\in S_k} \\| x_i - C_k \\|^2\n",
    "$$\n",
    "\n",
    "- Lower value of \\( J \\) = tighter, better-defined clusters.  \n",
    "- This is a **non-convex optimization** problem (but convex for fixed cluster assignments).\n",
    "\n",
    "---\n",
    "\n",
    "## 📌 Important Notes:\n",
    "\n",
    "- **Distance Metric**: Euclidean distance is standard, but others like Manhattan can be used.\n",
    "- **K-Means++**: Improved method for initializing centroids to avoid poor clustering due to random starts.\n",
    "- **Limitations**:\n",
    "  - Requires choosing K\n",
    "  - Sensitive to outliers\n",
    "  - Assumes spherical clusters of equal size\n",
    "\n",
    "---\n",
    "\n",
    "## 📊 Elbow Method to Choose K\n",
    "\n",
    "Plot:\n",
    "- **X-axis**: number of clusters (K)\n",
    "- **Y-axis**: WCSS (inertia)\n",
    "\n",
    "Choose K at the \"elbow\" point where the decrease in WCSS slows down.\n",
    "\n",
    "---\n",
    "\n",
    "## 🔁 Pseudocode Summary\n",
    "\n",
    "```python\n",
    "1. Initialize K centroids randomly\n",
    "2. repeat:\n",
    "    a. Assign each point to nearest centroid\n",
    "    b. Update centroids\n",
    "3. until convergence\n"
   ]
  },
  {
   "cell_type": "markdown",
   "id": "c9772432-f9ac-457e-8b5e-9035f3fd01ac",
   "metadata": {},
   "source": [
    "## 1)It is funny that even though it is clustering algo but still first we have to assign the values of how many number of clusters you want \n",
    "## 2)Then Initialize the centroids \n",
    "## 3) Assign it to the clusters \n",
    "## 4) Move it to the centroids \n",
    "## 5) FINiSH"
   ]
  },
  {
   "cell_type": "markdown",
   "id": "36482bc0-64be-4ef7-adcd-a5518c191247",
   "metadata": {},
   "source": [
    "# LEts suppose we got 3 clusters so that means the algo will select "
   ]
  },
  {
   "cell_type": "markdown",
   "id": "c943d572-cd30-4fb3-9534-06a9d02a3b29",
   "metadata": {},
   "source": [
    "## 3 After initiazing the centroids we will calculate the eucladian distance between the points  and then after that we will compare it with the centroid and the distance with minimum centroid will be assign to clusters"
   ]
  },
  {
   "cell_type": "markdown",
   "id": "422eceb0-4aff-49b0-9e1b-16f22950d692",
   "metadata": {},
   "source": [
    "# 4 After assign the clusters then calculate the centroid ,to calculate it we have to take the mean of both the parameters of every point in that cluster and then we will get the centroid"
   ]
  },
  {
   "cell_type": "markdown",
   "id": "c369ac1f-d96e-477d-8ff9-0e83c1fdd3b6",
   "metadata": {},
   "source": [
    "# K-Means Clustering (Elbow Method) \n",
    "## it is use to calculate the amount of the clusters require in the KNN"
   ]
  },
  {
   "cell_type": "code",
   "execution_count": null,
   "id": "710394d0-13cb-41a6-8603-1f8a3332d488",
   "metadata": {},
   "outputs": [],
   "source": []
  },
  {
   "cell_type": "markdown",
   "id": "c6822033-fd6d-41c8-9dcc-d3aa170a6533",
   "metadata": {},
   "source": [
    "# Coding "
   ]
  },
  {
   "cell_type": "code",
   "execution_count": 1,
   "id": "a436d47c-acea-4f38-a2c7-5250903643fd",
   "metadata": {},
   "outputs": [],
   "source": [
    "import pandas as pd \n",
    "import numpy as np "
   ]
  },
  {
   "cell_type": "code",
   "execution_count": 4,
   "id": "c991f8dc-0ced-4c0b-ad19-ad1fdf471e17",
   "metadata": {},
   "outputs": [
    {
     "name": "stdout",
     "output_type": "stream",
     "text": [
      "The shape of the data is  (200, 2)\n"
     ]
    }
   ],
   "source": [
    "df=pd.read_csv('student_clustering.csv')\n",
    "print(\"The shape of the data is \",df.shape)"
   ]
  },
  {
   "cell_type": "code",
   "execution_count": 5,
   "id": "d6315ac9-57bf-4a5c-beee-213f26235d7c",
   "metadata": {},
   "outputs": [
    {
     "data": {
      "text/html": [
       "<div>\n",
       "<style scoped>\n",
       "    .dataframe tbody tr th:only-of-type {\n",
       "        vertical-align: middle;\n",
       "    }\n",
       "\n",
       "    .dataframe tbody tr th {\n",
       "        vertical-align: top;\n",
       "    }\n",
       "\n",
       "    .dataframe thead th {\n",
       "        text-align: right;\n",
       "    }\n",
       "</style>\n",
       "<table border=\"1\" class=\"dataframe\">\n",
       "  <thead>\n",
       "    <tr style=\"text-align: right;\">\n",
       "      <th></th>\n",
       "      <th>cgpa</th>\n",
       "      <th>iq</th>\n",
       "    </tr>\n",
       "  </thead>\n",
       "  <tbody>\n",
       "    <tr>\n",
       "      <th>0</th>\n",
       "      <td>5.13</td>\n",
       "      <td>88</td>\n",
       "    </tr>\n",
       "    <tr>\n",
       "      <th>1</th>\n",
       "      <td>5.90</td>\n",
       "      <td>113</td>\n",
       "    </tr>\n",
       "    <tr>\n",
       "      <th>2</th>\n",
       "      <td>8.36</td>\n",
       "      <td>93</td>\n",
       "    </tr>\n",
       "    <tr>\n",
       "      <th>3</th>\n",
       "      <td>8.27</td>\n",
       "      <td>97</td>\n",
       "    </tr>\n",
       "    <tr>\n",
       "      <th>4</th>\n",
       "      <td>5.45</td>\n",
       "      <td>110</td>\n",
       "    </tr>\n",
       "  </tbody>\n",
       "</table>\n",
       "</div>"
      ],
      "text/plain": [
       "   cgpa   iq\n",
       "0  5.13   88\n",
       "1  5.90  113\n",
       "2  8.36   93\n",
       "3  8.27   97\n",
       "4  5.45  110"
      ]
     },
     "execution_count": 5,
     "metadata": {},
     "output_type": "execute_result"
    }
   ],
   "source": [
    "df.head()"
   ]
  },
  {
   "cell_type": "code",
   "execution_count": 6,
   "id": "badbb3e5-f0e7-44e7-b8ce-4362c5fe9351",
   "metadata": {},
   "outputs": [],
   "source": [
    "import matplotlib.pyplot as plt"
   ]
  },
  {
   "cell_type": "code",
   "execution_count": 8,
   "id": "7757832d-5b68-403c-8915-59d39266d717",
   "metadata": {},
   "outputs": [
    {
     "data": {
      "text/plain": [
       "<matplotlib.collections.PathCollection at 0x1e3d1c93880>"
      ]
     },
     "execution_count": 8,
     "metadata": {},
     "output_type": "execute_result"
    },
    {
     "data": {
      "image/png": "[encoded data removed]",
      "text/plain": [
       "<Figure size 640x480 with 1 Axes>"
      ]
     },
     "metadata": {},
     "output_type": "display_data"
    }
   ],
   "source": [
    "plt.scatter(df['iq'],df['cgpa'],c=df['iq'])"
   ]
  },
  {
   "cell_type": "code",
   "execution_count": 11,
   "id": "12c7f476-3238-44ee-8f13-f7e7b91c0dae",
   "metadata": {},
   "outputs": [],
   "source": [
    "from sklearn.cluster import KMeans"
   ]
  },
  {
   "cell_type": "code",
   "execution_count": 14,
   "id": "8100d290-47a2-4c71-b962-f516c44a6045",
   "metadata": {},
   "outputs": [],
   "source": [
    "wcss=[]\n",
    "for i in range(1,21): \n",
    "    knn=KMeans(n_clusters=i)\n",
    "    knn.fit_predict(df)\n",
    "    wcss.append(knn.inertia_)\n",
    "    "
   ]
  },
  {
   "cell_type": "code",
   "execution_count": 15,
   "id": "34e5cf77-8c4f-4893-bf8d-cc3321610ad5",
   "metadata": {},
   "outputs": [
    {
     "data": {
      "text/plain": [
       "[29957.898288,\n",
       " 4184.14127,\n",
       " 2364.005583420083,\n",
       " 681.9696599999999,\n",
       " 530.4298616986189,\n",
       " 427.9627769877213,\n",
       " 361.35315251665804,\n",
       " 273.6510757054303,\n",
       " 221.4299794877214,\n",
       " 194.07022345251366,\n",
       " 163.71084765886292,\n",
       " 133.51763354307909,\n",
       " 126.00273113161208,\n",
       " 114.16381114580682,\n",
       " 104.62547025169489,\n",
       " 78.07346750242122,\n",
       " 76.24455702268321,\n",
       " 61.14175673896365,\n",
       " 52.85773762099829,\n",
       " 56.47782314629942]"
      ]
     },
     "execution_count": 15,
     "metadata": {},
     "output_type": "execute_result"
    }
   ],
   "source": [
    "wcss"
   ]
  },
  {
   "cell_type": "code",
   "execution_count": 16,
   "id": "61af2d86-3ce8-4908-af19-974503f04af2",
   "metadata": {},
   "outputs": [
    {
     "data": {
      "text/plain": [
       "[<matplotlib.lines.Line2D at 0x1e3f5181730>]"
      ]
     },
     "execution_count": 16,
     "metadata": {},
     "output_type": "execute_result"
    },
    {
     "data": {
      "image/png": "[encoded data removed]",
      "text/plain": [
       "<Figure size 640x480 with 1 Axes>"
      ]
     },
     "metadata": {},
     "output_type": "display_data"
    }
   ],
   "source": [
    "plt.y_lable\n",
    "plt.plot(range(1,21),wcss)"
   ]
  },
  {
   "cell_type": "code",
   "execution_count": 17,
   "id": "b8244f23-ba1b-4ad9-b53d-7993f541fde3",
   "metadata": {},
   "outputs": [],
   "source": [
    "X=df.iloc[:,:].values\n",
    "km =KMeans(n_clusters=4)"
   ]
  },
  {
   "cell_type": "code",
   "execution_count": 20,
   "id": "a8a14497-a751-435f-8638-a9a95460cd24",
   "metadata": {},
   "outputs": [],
   "source": [
    "y_means=km.fit_predict(X)"
   ]
  },
  {
   "cell_type": "code",
   "execution_count": 25,
   "id": "093eee2b-95b4-4e68-8278-eb49665615a7",
   "metadata": {},
   "outputs": [
    {
     "data": {
      "text/plain": [
       "array([1, 2, 3, 3, 2, 2, 3, 0, 2, 3, 1, 2, 3, 1, 2, 3, 2, 3, 2, 2, 3, 1,\n",
       "       3, 1, 1, 3, 1, 0, 3, 2, 0, 2, 0, 2, 3, 3, 0, 2, 1, 2, 1, 3, 3, 1,\n",
       "       0, 0, 3, 2, 0, 2, 1, 1, 0, 3, 0, 2, 2, 0, 2, 0, 2, 3, 3, 0, 1, 0,\n",
       "       3, 1, 2, 3, 2, 0, 3, 1, 2, 0, 2, 0, 1, 3, 3, 0, 2, 1, 0, 1, 0, 2,\n",
       "       0, 2, 0, 0, 3, 1, 3, 3, 0, 3, 1, 0, 2, 1, 1, 0, 1, 1, 3, 1, 0, 0,\n",
       "       3, 0, 2, 2, 3, 0, 3, 2, 0, 1, 1, 2, 3, 0, 3, 1, 3, 2, 1, 3, 3, 2,\n",
       "       1, 1, 2, 0, 2, 1, 3, 3, 3, 1, 2, 1, 1, 0, 1, 0, 2, 1, 0, 1, 0, 0,\n",
       "       1, 3, 2, 0, 2, 3, 1, 0, 2, 3, 0, 1, 2, 1, 1, 0, 0, 2, 0, 1, 1, 3,\n",
       "       0, 2, 1, 0, 0, 2, 2, 2, 3, 1, 3, 3, 0, 2, 3, 3, 1, 1, 3, 1, 0, 2,\n",
       "       2, 0])"
      ]
     },
     "execution_count": 25,
     "metadata": {},
     "output_type": "execute_result"
    }
   ],
   "source": [
    "y_means"
   ]
  },
  {
   "cell_type": "code",
   "execution_count": 22,
   "id": "832f1627-a812-4848-997c-5b96033b4e6c",
   "metadata": {},
   "outputs": [
    {
     "data": {
      "text/plain": [
       "array([8.8 , 9.18, 8.86, 8.83, 8.56, 8.96, 8.78, 8.45, 8.79, 8.81, 8.88,\n",
       "       9.07, 8.92, 8.75, 8.71, 8.86, 9.3 , 9.01, 8.97, 9.  , 8.76, 8.78,\n",
       "       9.23, 9.03, 9.13, 8.91, 8.98, 9.03, 8.86, 8.89, 8.97, 8.72, 8.93,\n",
       "       8.58, 8.94, 8.6 , 8.77, 8.81, 8.54, 8.97, 8.91, 8.68, 9.06, 8.9 ,\n",
       "       8.94, 8.91, 8.91, 8.95, 8.57, 8.82])"
      ]
     },
     "execution_count": 22,
     "metadata": {},
     "output_type": "execute_result"
    }
   ],
   "source": [
    "X[y_means==0,0]"
   ]
  },
  {
   "cell_type": "code",
   "execution_count": 27,
   "id": "53eb067b-f492-4a8e-b823-596ae889d80d",
   "metadata": {},
   "outputs": [
    {
     "data": {
      "text/plain": [
       "<matplotlib.collections.PathCollection at 0x1e3f671feb0>"
      ]
     },
     "execution_count": 27,
     "metadata": {},
     "output_type": "execute_result"
    },
    {
     "data": {
      "image/png": "[encoded data removed]",
      "text/plain": [
       "<Figure size 640x480 with 1 Axes>"
      ]
     },
     "metadata": {},
     "output_type": "display_data"
    }
   ],
   "source": [
    "plt.scatter(X[y_means==0,0],X[y_means == 0,1],color='blue')\n",
    "plt.scatter(X[y_means==1,0],X[y_means == 1,1],color='red')\n",
    "plt.scatter(X[y_means==2,0],X[y_means == 2,1],color='green')\n",
    "plt.scatter(X[y_means==3,0],X[y_means == 3,1],color='orange')"
   ]
  },
  {
   "cell_type": "markdown",
   "id": "7557c123-f577-4943-be52-70e821a0ba9a",
   "metadata": {},
   "source": [
    "# KMEANS FROM SCRATCH"
   ]
  },
  {
   "cell_type": "code",
   "execution_count": 12,
   "id": "ff3193e6-ab34-48d9-9acd-5df7b89c07d9",
   "metadata": {},
   "outputs": [],
   "source": [
    "from sklearn.datasets import make_blobs\n",
    "import matplotlib.pyplot as plt \n",
    "import random"
   ]
  },
  {
   "cell_type": "code",
   "execution_count": 4,
   "id": "679b9430-67e3-451a-8e74-adbad792c952",
   "metadata": {},
   "outputs": [],
   "source": [
    "centroids=[(-5,-5),(5,5)]\n",
    "cluster_std=[1,1]"
   ]
  },
  {
   "cell_type": "code",
   "execution_count": 5,
   "id": "65828384-8e6a-429a-ae2d-1073b428687b",
   "metadata": {},
   "outputs": [],
   "source": [
    "X,y=make_blobs(n_samples=100,n_features=2,random_state=2,cluster_std=cluster_std,centers=centroids)"
   ]
  },
  {
   "cell_type": "code",
   "execution_count": 7,
   "id": "66d7cec1-4670-413e-9142-502432bfccf3",
   "metadata": {},
   "outputs": [
    {
     "data": {
      "text/plain": [
       "<matplotlib.collections.PathCollection at 0x2524265e940>"
      ]
     },
     "execution_count": 7,
     "metadata": {},
     "output_type": "execute_result"
    },
    {
     "data": {
      "image/png": "[encoded data removed]",
      "text/plain": [
       "<Figure size 640x480 with 1 Axes>"
      ]
     },
     "metadata": {},
     "output_type": "display_data"
    }
   ],
   "source": [
    "plt.scatter(X[:,0],X[:,1])"
   ]
  },
  {
   "cell_type": "code",
   "execution_count": 63,
   "id": "33c150a7-cde2-45c4-a0b1-b5ab8d0ddb76",
   "metadata": {},
   "outputs": [],
   "source": [
    "class Kmeans: \n",
    "    def __init__(self,n_clusters=2,max_iter=100): \n",
    "        self.n_clusters=n_clusters\n",
    "        self.max_iter=max_iter\n",
    "        self.centroids=None \n",
    "\n",
    "    def fit_predict(self,X):\n",
    "        \n",
    "        random_index =random.sample(range(0,X.shape[0]),self.n_clusters)\n",
    "        self.centroids=X[random_index]\n",
    "\n",
    "        for i in range(self.max_iter): \n",
    "            cluster_group=self.assign_clusters(X)\n",
    "\n",
    "\n",
    "    \n",
    "    def assign_clusters(self,X): \n",
    "        cluster_group=[]\n",
    "        distances=[]\n",
    "\n",
    "        for row in X: \n",
    "            for centroid in self.centroids: \n",
    "                \n",
    "                \n",
    "        return cluster_group"
   ]
  },
  {
   "cell_type": "code",
   "execution_count": 61,
   "id": "43e96775-9aad-4685-9afc-f4024a6d2db6",
   "metadata": {},
   "outputs": [],
   "source": [
    "km=Kmeans(n_clusters=5,max_iter=100)"
   ]
  },
  {
   "cell_type": "code",
   "execution_count": 62,
   "id": "9b052c67-0e68-4c68-bcc1-6ea256986fa0",
   "metadata": {},
   "outputs": [
    {
     "name": "stdout",
     "output_type": "stream",
     "text": [
      "[[ 5.36505352  5.77408203]\n",
      " [ 8.2797454   5.97086132]\n",
      " [ 6.83533272  5.44068987]\n",
      " [-6.42121723 -5.1534952 ]\n",
      " [ 4.54577215  5.51437072]]\n"
     ]
    }
   ],
   "source": [
    "km.fit_predict(X)"
   ]
  },
  {
   "cell_type": "code",
   "execution_count": null,
   "id": "8587c32d-9709-4ba8-a6b3-b97ac4290087",
   "metadata": {},
   "outputs": [],
   "source": []
  }
 ],
 "metadata": {
  "kernelspec": {
   "display_name": "Python 3 (ipykernel)",
   "language": "python",
   "name": "python3"
  },
  "language_info": {
   "codemirror_mode": {
    "name": "ipython",
    "version": 3
   },
   "file_extension": ".py",
   "mimetype": "text/x-python",
   "name": "python",
   "nbconvert_exporter": "python",
   "pygments_lexer": "ipython3",
   "version": "3.9.13"
  }
 },
 "nbformat": 4,
 "nbformat_minor": 5
}
