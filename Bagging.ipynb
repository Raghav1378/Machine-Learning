{
 "cells": [
  {
   "cell_type": "code",
   "execution_count": null,
   "id": "faf1937f-8f75-4292-829c-9892735be75d",
   "metadata": {},
   "outputs": [],
   "source": []
  },
  {
   "cell_type": "markdown",
   "id": "bce36acb-751a-4691-8352-3ab8e9b1c606",
   "metadata": {},
   "source": [
    "# IN bagging there are 10k rows and lets suppose it is classfication problem now we will take multiple base model for eg 100 then we have to enusre the every model is same like if LR then LR only but in this we have to give a certain part of the data not every part.\n",
    "\n",
    "# Bootstraping  is we take subset of the data and train the base model."
   ]
  },
  {
   "cell_type": "markdown",
   "id": "87ce7605-f1f1-4e8a-98e6-d97b0fd1584f",
   "metadata": {},
   "source": [
    "# We create differnt datasets and then we will provide it to the model  this is known as bootstrap"
   ]
  },
  {
   "cell_type": "markdown",
   "id": "b5ac3f38-129b-41c0-9293-08a3d69702c2",
   "metadata": {},
   "source": [
    "# Bagging use only 1 model but with the diffrent data sets while in the Voting ensemble there are diffrent models"
   ]
  },
  {
   "cell_type": "markdown",
   "id": "5bffb28b-0c12-4c12-9d29-c6598dbf6d25",
   "metadata": {},
   "source": [
    "# IN bagging algo we take model that have LOW BIAS AND HIGH VARIANCE eg(Decision tree(max_dept=none),SVM,KNN) now the maint thing is we have to reduce the variance"
   ]
  },
  {
   "cell_type": "code",
   "execution_count": 1,
   "id": "53adeae0-0efd-4a70-ab9c-df6d49547b22",
   "metadata": {},
   "outputs": [],
   "source": [
    "import numpy as np \n",
    "import pandas as pd "
   ]
  },
  {
   "cell_type": "code",
   "execution_count": 2,
   "id": "bcd2f0a6-a7ba-4bf8-ba24-bbf42acacf5c",
   "metadata": {},
   "outputs": [],
   "source": [
    "df=pd.read_csv('iris.csv')"
   ]
  },
  {
   "cell_type": "code",
   "execution_count": 3,
   "id": "673ee00b-34a0-4b23-83fe-d6a4bf916e5d",
   "metadata": {},
   "outputs": [],
   "source": [
    "from sklearn.preprocessing import LabelEncoder"
   ]
  },
  {
   "cell_type": "code",
   "execution_count": 4,
   "id": "2ed48c32-ca57-4fd3-8a2f-5e04acdd6e7d",
   "metadata": {},
   "outputs": [],
   "source": [
    "Le=LabelEncoder()"
   ]
  },
  {
   "cell_type": "code",
   "execution_count": 5,
   "id": "947adef9-dde6-4a49-9f57-346ff17cd8f5",
   "metadata": {},
   "outputs": [],
   "source": [
    "df['variety']=Le.fit_transform(df['variety'])"
   ]
  },
  {
   "cell_type": "code",
   "execution_count": 6,
   "id": "a403e0fc-a6ef-4bb1-8450-167d008af48f",
   "metadata": {},
   "outputs": [
    {
     "data": {
      "text/html": [
       "<div>\n",
       "<style scoped>\n",
       "    .dataframe tbody tr th:only-of-type {\n",
       "        vertical-align: middle;\n",
       "    }\n",
       "\n",
       "    .dataframe tbody tr th {\n",
       "        vertical-align: top;\n",
       "    }\n",
       "\n",
       "    .dataframe thead th {\n",
       "        text-align: right;\n",
       "    }\n",
       "</style>\n",
       "<table border=\"1\" class=\"dataframe\">\n",
       "  <thead>\n",
       "    <tr style=\"text-align: right;\">\n",
       "      <th></th>\n",
       "      <th>sepal.length</th>\n",
       "      <th>sepal.width</th>\n",
       "      <th>petal.length</th>\n",
       "      <th>petal.width</th>\n",
       "      <th>variety</th>\n",
       "    </tr>\n",
       "  </thead>\n",
       "  <tbody>\n",
       "    <tr>\n",
       "      <th>0</th>\n",
       "      <td>5.1</td>\n",
       "      <td>3.5</td>\n",
       "      <td>1.4</td>\n",
       "      <td>0.2</td>\n",
       "      <td>0</td>\n",
       "    </tr>\n",
       "    <tr>\n",
       "      <th>1</th>\n",
       "      <td>4.9</td>\n",
       "      <td>3.0</td>\n",
       "      <td>1.4</td>\n",
       "      <td>0.2</td>\n",
       "      <td>0</td>\n",
       "    </tr>\n",
       "    <tr>\n",
       "      <th>2</th>\n",
       "      <td>4.7</td>\n",
       "      <td>3.2</td>\n",
       "      <td>1.3</td>\n",
       "      <td>0.2</td>\n",
       "      <td>0</td>\n",
       "    </tr>\n",
       "    <tr>\n",
       "      <th>3</th>\n",
       "      <td>4.6</td>\n",
       "      <td>3.1</td>\n",
       "      <td>1.5</td>\n",
       "      <td>0.2</td>\n",
       "      <td>0</td>\n",
       "    </tr>\n",
       "    <tr>\n",
       "      <th>4</th>\n",
       "      <td>5.0</td>\n",
       "      <td>3.6</td>\n",
       "      <td>1.4</td>\n",
       "      <td>0.2</td>\n",
       "      <td>0</td>\n",
       "    </tr>\n",
       "    <tr>\n",
       "      <th>...</th>\n",
       "      <td>...</td>\n",
       "      <td>...</td>\n",
       "      <td>...</td>\n",
       "      <td>...</td>\n",
       "      <td>...</td>\n",
       "    </tr>\n",
       "    <tr>\n",
       "      <th>145</th>\n",
       "      <td>6.7</td>\n",
       "      <td>3.0</td>\n",
       "      <td>5.2</td>\n",
       "      <td>2.3</td>\n",
       "      <td>2</td>\n",
       "    </tr>\n",
       "    <tr>\n",
       "      <th>146</th>\n",
       "      <td>6.3</td>\n",
       "      <td>2.5</td>\n",
       "      <td>5.0</td>\n",
       "      <td>1.9</td>\n",
       "      <td>2</td>\n",
       "    </tr>\n",
       "    <tr>\n",
       "      <th>147</th>\n",
       "      <td>6.5</td>\n",
       "      <td>3.0</td>\n",
       "      <td>5.2</td>\n",
       "      <td>2.0</td>\n",
       "      <td>2</td>\n",
       "    </tr>\n",
       "    <tr>\n",
       "      <th>148</th>\n",
       "      <td>6.2</td>\n",
       "      <td>3.4</td>\n",
       "      <td>5.4</td>\n",
       "      <td>2.3</td>\n",
       "      <td>2</td>\n",
       "    </tr>\n",
       "    <tr>\n",
       "      <th>149</th>\n",
       "      <td>5.9</td>\n",
       "      <td>3.0</td>\n",
       "      <td>5.1</td>\n",
       "      <td>1.8</td>\n",
       "      <td>2</td>\n",
       "    </tr>\n",
       "  </tbody>\n",
       "</table>\n",
       "<p>150 rows × 5 columns</p>\n",
       "</div>"
      ],
      "text/plain": [
       "     sepal.length  sepal.width  petal.length  petal.width  variety\n",
       "0             5.1          3.5           1.4          0.2        0\n",
       "1             4.9          3.0           1.4          0.2        0\n",
       "2             4.7          3.2           1.3          0.2        0\n",
       "3             4.6          3.1           1.5          0.2        0\n",
       "4             5.0          3.6           1.4          0.2        0\n",
       "..            ...          ...           ...          ...      ...\n",
       "145           6.7          3.0           5.2          2.3        2\n",
       "146           6.3          2.5           5.0          1.9        2\n",
       "147           6.5          3.0           5.2          2.0        2\n",
       "148           6.2          3.4           5.4          2.3        2\n",
       "149           5.9          3.0           5.1          1.8        2\n",
       "\n",
       "[150 rows x 5 columns]"
      ]
     },
     "execution_count": 6,
     "metadata": {},
     "output_type": "execute_result"
    }
   ],
   "source": [
    "df"
   ]
  },
  {
   "cell_type": "code",
   "execution_count": 23,
   "id": "b7a0d024-2010-4225-a5c8-f05e01715cb3",
   "metadata": {},
   "outputs": [],
   "source": [
    "df=df[df['variety']!=0][['sepal.width','petal.length','variety']]"
   ]
  },
  {
   "cell_type": "code",
   "execution_count": 27,
   "id": "c9bc04fa-53b7-4796-97d6-413f3de014d8",
   "metadata": {},
   "outputs": [],
   "source": [
    "import matplotlib.pyplot as plt\n",
    "import seaborn as sns"
   ]
  },
  {
   "cell_type": "code",
   "execution_count": 28,
   "id": "7ac333ed-f779-458b-a0d3-578f177b7513",
   "metadata": {},
   "outputs": [
    {
     "data": {
      "text/plain": [
       "<matplotlib.collections.PathCollection at 0x176cc29b970>"
      ]
     },
     "execution_count": 28,
     "metadata": {},
     "output_type": "execute_result"
    },
    {
     "data": {
      "image/png": "[encoded data removed]",
      "text/plain": [
       "<Figure size 640x480 with 1 Axes>"
      ]
     },
     "metadata": {},
     "output_type": "display_data"
    }
   ],
   "source": [
    "plt.scatter(df['sepal.width'],df['petal.length'],c=df['variety'])"
   ]
  },
  {
   "cell_type": "code",
   "execution_count": 30,
   "id": "98d3770f-5fbb-476d-aa14-a32f93b33e6e",
   "metadata": {},
   "outputs": [],
   "source": [
    "df=df.sample(100)"
   ]
  },
  {
   "cell_type": "code",
   "execution_count": 42,
   "id": "59b1906e-b788-4d28-a7a6-e2947f1974c4",
   "metadata": {},
   "outputs": [],
   "source": [
    "df_train=df.iloc[:60,:].sample(10)\n",
    "df_val=df.iloc[60:80,:].sample(5)\n",
    "df_test=df.iloc[80:,:].sample(5)\n"
   ]
  },
  {
   "cell_type": "code",
   "execution_count": 47,
   "id": "16caac8b-89fc-4894-ac82-aa70bc67fba7",
   "metadata": {},
   "outputs": [
    {
     "name": "stdout",
     "output_type": "stream",
     "text": [
      "     sepal.width  petal.length  variety\n",
      "106          2.5           4.5        2\n",
      "62           2.2           4.0        1\n",
      "112          3.0           5.5        2\n",
      "83           2.7           5.1        1\n",
      "107          2.9           6.3        2\n",
      "     sepal.width  petal.length  variety\n",
      "138          3.0           4.8        2\n",
      "143          3.2           5.9        2\n",
      "86           3.1           4.7        1\n",
      "94           2.7           4.2        1\n",
      "127          3.0           4.9        2\n",
      "     sepal.width  petal.length  variety\n",
      "146          2.5           5.0        2\n",
      "128          2.8           5.6        2\n",
      "99           2.8           4.1        1\n",
      "144          3.3           5.7        2\n",
      "135          3.0           6.1        2\n",
      "58           2.9           4.6        1\n",
      "126          2.8           4.8        2\n",
      "67           2.7           4.1        1\n",
      "142          2.7           5.1        2\n",
      "81           2.4           3.7        1\n"
     ]
    }
   ],
   "source": [
    "print(df_val)\n",
    "print(df_test)\n",
    "print(df_train)"
   ]
  },
  {
   "cell_type": "code",
   "execution_count": 50,
   "id": "8e5b6df5-5158-44e7-8244-6953bfab6151",
   "metadata": {},
   "outputs": [],
   "source": [
    "X_test=df_val.iloc[:,0:2].values\n",
    "Y_test=df_val.iloc[:,-1].values"
   ]
  },
  {
   "cell_type": "code",
   "execution_count": 51,
   "id": "d96ff7b9-1a4b-472d-b6e4-0bb9e7dcd9dd",
   "metadata": {},
   "outputs": [
    {
     "data": {
      "text/plain": [
       "array([2, 1, 2, 1, 2])"
      ]
     },
     "execution_count": 51,
     "metadata": {},
     "output_type": "execute_result"
    }
   ],
   "source": [
    "Y_test"
   ]
  },
  {
   "cell_type": "markdown",
   "id": "34d3cf06-ee2c-4975-85de-bb9f8ad3bf7c",
   "metadata": {},
   "source": [
    "# CASE 1)Bagging"
   ]
  },
  {
   "cell_type": "code",
   "execution_count": 54,
   "id": "e60f445f-eef2-4a5c-8bab-93262331826c",
   "metadata": {},
   "outputs": [
    {
     "data": {
      "text/html": [
       "<div>\n",
       "<style scoped>\n",
       "    .dataframe tbody tr th:only-of-type {\n",
       "        vertical-align: middle;\n",
       "    }\n",
       "\n",
       "    .dataframe tbody tr th {\n",
       "        vertical-align: top;\n",
       "    }\n",
       "\n",
       "    .dataframe thead th {\n",
       "        text-align: right;\n",
       "    }\n",
       "</style>\n",
       "<table border=\"1\" class=\"dataframe\">\n",
       "  <thead>\n",
       "    <tr style=\"text-align: right;\">\n",
       "      <th></th>\n",
       "      <th>sepal.width</th>\n",
       "      <th>petal.length</th>\n",
       "      <th>variety</th>\n",
       "    </tr>\n",
       "  </thead>\n",
       "  <tbody>\n",
       "    <tr>\n",
       "      <th>99</th>\n",
       "      <td>2.8</td>\n",
       "      <td>4.1</td>\n",
       "      <td>1</td>\n",
       "    </tr>\n",
       "    <tr>\n",
       "      <th>81</th>\n",
       "      <td>2.4</td>\n",
       "      <td>3.7</td>\n",
       "      <td>1</td>\n",
       "    </tr>\n",
       "    <tr>\n",
       "      <th>135</th>\n",
       "      <td>3.0</td>\n",
       "      <td>6.1</td>\n",
       "      <td>2</td>\n",
       "    </tr>\n",
       "    <tr>\n",
       "      <th>135</th>\n",
       "      <td>3.0</td>\n",
       "      <td>6.1</td>\n",
       "      <td>2</td>\n",
       "    </tr>\n",
       "    <tr>\n",
       "      <th>67</th>\n",
       "      <td>2.7</td>\n",
       "      <td>4.1</td>\n",
       "      <td>1</td>\n",
       "    </tr>\n",
       "    <tr>\n",
       "      <th>142</th>\n",
       "      <td>2.7</td>\n",
       "      <td>5.1</td>\n",
       "      <td>2</td>\n",
       "    </tr>\n",
       "    <tr>\n",
       "      <th>144</th>\n",
       "      <td>3.3</td>\n",
       "      <td>5.7</td>\n",
       "      <td>2</td>\n",
       "    </tr>\n",
       "    <tr>\n",
       "      <th>142</th>\n",
       "      <td>2.7</td>\n",
       "      <td>5.1</td>\n",
       "      <td>2</td>\n",
       "    </tr>\n",
       "  </tbody>\n",
       "</table>\n",
       "</div>"
      ],
      "text/plain": [
       "     sepal.width  petal.length  variety\n",
       "99           2.8           4.1        1\n",
       "81           2.4           3.7        1\n",
       "135          3.0           6.1        2\n",
       "135          3.0           6.1        2\n",
       "67           2.7           4.1        1\n",
       "142          2.7           5.1        2\n",
       "144          3.3           5.7        2\n",
       "142          2.7           5.1        2"
      ]
     },
     "execution_count": 54,
     "metadata": {},
     "output_type": "execute_result"
    }
   ],
   "source": [
    "df_bag=df_train.sample(8,replace=True) \n",
    "X=df_bag.iloc[:,0:2]\n",
    "Y=df_bag.iloc[:,-1]\n",
    "df_bag"
   ]
  },
  {
   "cell_type": "code",
   "execution_count": 63,
   "id": "224814df-3385-4766-9ee4-6eb02caca95e",
   "metadata": {},
   "outputs": [],
   "source": [
    "from sklearn.tree import DecisionTreeClassifier\n",
    "from sklearn.tree import plot_tree \n",
    "from mlxtend.plotting import plot_decision_regions\n",
    "from sklearn.metrics import accuracy_score"
   ]
  },
  {
   "cell_type": "code",
   "execution_count": 65,
   "id": "f881cc2d-6953-4994-bfe9-33712c5f667a",
   "metadata": {},
   "outputs": [],
   "source": [
    "dt_bag1=DecisionTreeClassifier()"
   ]
  },
  {
   "cell_type": "code",
   "execution_count": 69,
   "id": "bac0fc37-ad5c-40b5-b489-098e3901e209",
   "metadata": {},
   "outputs": [],
   "source": [
    "def evaluate(clf,X,Y): \n",
    "    clf.fit(X,Y) \n",
    "    plot_tree(clf)\n",
    "    plt.show() \n",
    "    plot_decision_regions(X.values,Y.values,clf=clf,legend=2)\n",
    "    Y_pred=clf.predict(X_test)\n",
    "    print(\"THe accuracy score is\",accuracy_score(Y_pred,Y_test))"
   ]
  },
  {
   "cell_type": "code",
   "execution_count": 70,
   "id": "6bae6cde-d45b-4462-b042-1c90a6b7babd",
   "metadata": {},
   "outputs": [
    {
     "data": {
      "image/png": "[encoded data removed]",
      "text/plain": [
       "<Figure size 640x480 with 1 Axes>"
      ]
     },
     "metadata": {},
     "output_type": "display_data"
    },
    {
     "name": "stderr",
     "output_type": "stream",
     "text": [
      "C:\\Users\\91800\\Desktop\\vs codeee\\venv\\lib\\site-packages\\sklearn\\base.py:493: UserWarning: X does not have valid feature names, but DecisionTreeClassifier was fitted with feature names\n",
      "  warnings.warn(\n",
      "C:\\Users\\91800\\Desktop\\vs codeee\\venv\\lib\\site-packages\\sklearn\\base.py:493: UserWarning: X does not have valid feature names, but DecisionTreeClassifier was fitted with feature names\n",
      "  warnings.warn(\n"
     ]
    },
    {
     "name": "stdout",
     "output_type": "stream",
     "text": [
      "THe accuracy score is 0.6\n"
     ]
    },
    {
     "data": {
      "image/png": "[encoded data removed]",
      "text/plain": [
       "<Figure size 640x480 with 1 Axes>"
      ]
     },
     "metadata": {},
     "output_type": "display_data"
    }
   ],
   "source": [
    "evaluate(dt_bag1,X,Y)"
   ]
  },
  {
   "cell_type": "code",
   "execution_count": 72,
   "id": "6a7fdcc1-8968-4988-950e-eaeba0876598",
   "metadata": {},
   "outputs": [
    {
     "data": {
      "text/html": [
       "<div>\n",
       "<style scoped>\n",
       "    .dataframe tbody tr th:only-of-type {\n",
       "        vertical-align: middle;\n",
       "    }\n",
       "\n",
       "    .dataframe tbody tr th {\n",
       "        vertical-align: top;\n",
       "    }\n",
       "\n",
       "    .dataframe thead th {\n",
       "        text-align: right;\n",
       "    }\n",
       "</style>\n",
       "<table border=\"1\" class=\"dataframe\">\n",
       "  <thead>\n",
       "    <tr style=\"text-align: right;\">\n",
       "      <th></th>\n",
       "      <th>sepal.width</th>\n",
       "      <th>petal.length</th>\n",
       "      <th>variety</th>\n",
       "    </tr>\n",
       "  </thead>\n",
       "  <tbody>\n",
       "    <tr>\n",
       "      <th>144</th>\n",
       "      <td>3.3</td>\n",
       "      <td>5.7</td>\n",
       "      <td>2</td>\n",
       "    </tr>\n",
       "    <tr>\n",
       "      <th>58</th>\n",
       "      <td>2.9</td>\n",
       "      <td>4.6</td>\n",
       "      <td>1</td>\n",
       "    </tr>\n",
       "    <tr>\n",
       "      <th>142</th>\n",
       "      <td>2.7</td>\n",
       "      <td>5.1</td>\n",
       "      <td>2</td>\n",
       "    </tr>\n",
       "    <tr>\n",
       "      <th>67</th>\n",
       "      <td>2.7</td>\n",
       "      <td>4.1</td>\n",
       "      <td>1</td>\n",
       "    </tr>\n",
       "    <tr>\n",
       "      <th>99</th>\n",
       "      <td>2.8</td>\n",
       "      <td>4.1</td>\n",
       "      <td>1</td>\n",
       "    </tr>\n",
       "    <tr>\n",
       "      <th>146</th>\n",
       "      <td>2.5</td>\n",
       "      <td>5.0</td>\n",
       "      <td>2</td>\n",
       "    </tr>\n",
       "    <tr>\n",
       "      <th>81</th>\n",
       "      <td>2.4</td>\n",
       "      <td>3.7</td>\n",
       "      <td>1</td>\n",
       "    </tr>\n",
       "    <tr>\n",
       "      <th>144</th>\n",
       "      <td>3.3</td>\n",
       "      <td>5.7</td>\n",
       "      <td>2</td>\n",
       "    </tr>\n",
       "  </tbody>\n",
       "</table>\n",
       "</div>"
      ],
      "text/plain": [
       "     sepal.width  petal.length  variety\n",
       "144          3.3           5.7        2\n",
       "58           2.9           4.6        1\n",
       "142          2.7           5.1        2\n",
       "67           2.7           4.1        1\n",
       "99           2.8           4.1        1\n",
       "146          2.5           5.0        2\n",
       "81           2.4           3.7        1\n",
       "144          3.3           5.7        2"
      ]
     },
     "execution_count": 72,
     "metadata": {},
     "output_type": "execute_result"
    }
   ],
   "source": [
    "df_bag2=df_train.sample(8,replace=True) \n",
    "X=df_bag.iloc[:,0:2]\n",
    "Y=df_bag.iloc[:,-1]\n",
    "df_bag2"
   ]
  },
  {
   "cell_type": "code",
   "execution_count": null,
   "id": "507563b0-48eb-42a0-b78e-c5cefe8ff4a2",
   "metadata": {},
   "outputs": [],
   "source": []
  },
  {
   "cell_type": "code",
   "execution_count": null,
   "id": "8cf29054-20c5-430d-83b6-191c8cde5c33",
   "metadata": {},
   "outputs": [],
   "source": []
  },
  {
   "cell_type": "code",
   "execution_count": null,
   "id": "422a83c6-af0b-4bd2-a791-77505196c346",
   "metadata": {},
   "outputs": [],
   "source": []
  },
  {
   "cell_type": "code",
   "execution_count": null,
   "id": "4b98b962-1092-4e25-80fe-fc44e79b59ec",
   "metadata": {},
   "outputs": [],
   "source": []
  },
  {
   "cell_type": "code",
   "execution_count": null,
   "id": "cd0e1aca-8efd-474e-975c-a43ecb2711ea",
   "metadata": {},
   "outputs": [],
   "source": []
  },
  {
   "cell_type": "code",
   "execution_count": null,
   "id": "2a08755e-77f5-49c0-a506-839da85ca95d",
   "metadata": {},
   "outputs": [],
   "source": []
  },
  {
   "cell_type": "code",
   "execution_count": null,
   "id": "228377a9-033d-4b5c-956b-8798ce1990d7",
   "metadata": {},
   "outputs": [],
   "source": []
  },
  {
   "cell_type": "code",
   "execution_count": null,
   "id": "9f46d53d-df44-41f2-85a2-08f7766e9ee5",
   "metadata": {},
   "outputs": [],
   "source": []
  },
  {
   "cell_type": "code",
   "execution_count": null,
   "id": "796d74d2-4a29-4194-86b6-f08206d26fa7",
   "metadata": {},
   "outputs": [],
   "source": []
  },
  {
   "cell_type": "code",
   "execution_count": null,
   "id": "b9e52288-932f-4b15-b5ef-45d2d81e5869",
   "metadata": {},
   "outputs": [],
   "source": []
  },
  {
   "cell_type": "code",
   "execution_count": null,
   "id": "a09f0797-b31d-4d62-9be4-2fba756b9841",
   "metadata": {},
   "outputs": [],
   "source": []
  },
  {
   "cell_type": "code",
   "execution_count": null,
   "id": "32655327-5912-4554-bbea-571952a93c53",
   "metadata": {},
   "outputs": [],
   "source": []
  },
  {
   "cell_type": "code",
   "execution_count": null,
   "id": "a0bdf182-c925-497f-8d93-70ebecf153b7",
   "metadata": {},
   "outputs": [],
   "source": []
  },
  {
   "cell_type": "code",
   "execution_count": null,
   "id": "86b3385c-ecea-411d-a91b-9032cc822c4e",
   "metadata": {},
   "outputs": [],
   "source": []
  },
  {
   "cell_type": "code",
   "execution_count": null,
   "id": "aafeec4d-698d-467e-82d5-2a25c44a74ec",
   "metadata": {},
   "outputs": [],
   "source": []
  },
  {
   "cell_type": "code",
   "execution_count": null,
   "id": "71607541-fcc8-4ae7-9be7-f0c85e7728db",
   "metadata": {},
   "outputs": [],
   "source": []
  },
  {
   "cell_type": "code",
   "execution_count": null,
   "id": "f1daf49c-98f6-452a-95ec-766bdc6ca479",
   "metadata": {},
   "outputs": [],
   "source": []
  },
  {
   "cell_type": "code",
   "execution_count": null,
   "id": "50af1482-d3a0-4cea-9642-c2a989ede725",
   "metadata": {},
   "outputs": [],
   "source": []
  },
  {
   "cell_type": "code",
   "execution_count": null,
   "id": "e81201b4-65b1-4788-91c0-b8b4b6ddddca",
   "metadata": {},
   "outputs": [],
   "source": []
  },
  {
   "cell_type": "code",
   "execution_count": null,
   "id": "d55c7ca0-091b-43e0-b316-e2317110db36",
   "metadata": {},
   "outputs": [],
   "source": []
  },
  {
   "cell_type": "code",
   "execution_count": null,
   "id": "6700cdfc-c1e1-4545-a16e-0c63ffe25060",
   "metadata": {},
   "outputs": [],
   "source": []
  },
  {
   "cell_type": "code",
   "execution_count": null,
   "id": "9b325569-17ad-4f4e-825a-38a1e78e65f4",
   "metadata": {},
   "outputs": [],
   "source": []
  },
  {
   "cell_type": "code",
   "execution_count": null,
   "id": "12c91283-3e8e-40df-ac84-e667875b0f75",
   "metadata": {},
   "outputs": [],
   "source": []
  }
 ],
 "metadata": {
  "kernelspec": {
   "display_name": "Python 3 (ipykernel)",
   "language": "python",
   "name": "python3"
  },
  "language_info": {
   "codemirror_mode": {
    "name": "ipython",
    "version": 3
   },
   "file_extension": ".py",
   "mimetype": "text/x-python",
   "name": "python",
   "nbconvert_exporter": "python",
   "pygments_lexer": "ipython3",
   "version": "3.9.13"
  }
 },
 "nbformat": 4,
 "nbformat_minor": 5
}
