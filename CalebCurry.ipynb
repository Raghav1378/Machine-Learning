{
 "cells": [
  {
   "cell_type": "markdown",
   "id": "445ed1ca-e796-46fe-8bba-f37467566e6a",
   "metadata": {},
   "source": [
    "# 🌐 HTTP Methods in REST APIs (Explained for Python Developers)\n",
    "\n",
    "In RESTful APIs, we use various HTTP methods to interact with resources. Here's an end-to-end breakdown of the most common ones:\n",
    "\n",
    "---\n",
    "\n",
    "## 🔹 GET — Retrieve Data\n",
    "\n",
    "- **Purpose**: Fetch data from the server.\n",
    "- **Safe**: Doesn't alter data.\n",
    "- **Idempotent**: Same response if called multiple times.\n",
    "\n",
    "📌 Example:\n",
    "```http\n",
    "GET /users/101```\n",
    "---\n",
    "# 📬 HTTP POST Method — Explained in Detail\n",
    "\n",
    "The `POST` method is used in RESTful APIs to **send data to the server** to **create a new resource**.\n",
    "\n",
    "---\n",
    "\n",
    "## 🧠 Purpose\n",
    "\n",
    "- Submit new data to a specific resource endpoint.\n",
    "- Often used in **form submissions**, **user registrations**, or **creating records in a database**.\n",
    "\n",
    "---\n",
    "\n",
    "## 🧪 Characteristics\n",
    "\n",
    "| Property       | Description                          |\n",
    "|----------------|--------------------------------------|\n",
    "| 🔁 Idempotent? | ❌ No – Multiple identical POSTs create multiple resources |\n",
    "| 🛡️ Safe?       | ❌ No – It changes the server state   |\n",
    "| 🔒 Secure?     | Yes, when used with HTTPS            |\n",
    "\n",
    "---\n",
    "\n",
    "## 🛠️ Example Use Case\n",
    "\n",
    "📌 **Creating a New User**\n",
    "\n",
    "```http\n",
    "POST /users\n",
    "\n",
    "\n",
    "#📝 HTTP PUT Method — Explained in Detail\n",
    "\n",
    "The `PUT` method is used in RESTful APIs to **completely replace** a resource at the specified URI with new data.\n",
    "\n",
    "---\n",
    "\n",
    "## 🧠 Purpose\n",
    "\n",
    "- Used to **update an existing resource entirely**.\n",
    "- If the resource does not exist, some APIs may create it (though this behavior varies).\n",
    "\n",
    "---\n",
    "\n",
    "## 🧪 Characteristics\n",
    "\n",
    "| Property       | Description                               |\n",
    "|----------------|-------------------------------------------|\n",
    "| 🔁 Idempotent? | ✅ Yes – Multiple identical PUTs = same result |\n",
    "| 🛡️ Safe?       | ❌ No – It modifies server state            |\n",
    "\n",
    "---\n",
    "\n",
    "## 🛠️ Example Use Case\n",
    "\n",
    "📌 **Updating a User Completely**\n",
    "\n",
    "```http\n",
    "PUT /users/101\n",
    "\n",
    " "
   ]
  },
  {
   "cell_type": "code",
   "execution_count": 5,
   "id": "86eeab7f-1ac6-4da0-be51-04ed4a32008a",
   "metadata": {},
   "outputs": [],
   "source": [
    "import json\n",
    "import requests"
   ]
  },
  {
   "cell_type": "code",
   "execution_count": 2,
   "id": "713a941f-9884-4c97-9618-72d59034c97d",
   "metadata": {},
   "outputs": [],
   "source": [
    "url='https://api.stackexchange.com/2.3/questions?order=desc&sort=activity&site=stackoverflow'"
   ]
  },
  {
   "cell_type": "code",
   "execution_count": 23,
   "id": "86aa29e1-2be3-4016-8da6-293749906de0",
   "metadata": {},
   "outputs": [],
   "source": [
    "response=requests.get(url)"
   ]
  },
  {
   "cell_type": "code",
   "execution_count": 38,
   "id": "a701360d-7f4f-4851-8599-02ac69e5c121",
   "metadata": {},
   "outputs": [
    {
     "name": "stdout",
     "output_type": "stream",
     "text": [
      "Geekn\n",
      "Global parameters are not added to ARM template after enabling &quot;Include global parameters in ARM template&quot;\n",
      "ceperman\n",
      "How to connect local source copy to the orginal github project\n",
      "stefaniecg\n",
      "How to plot x-axis in scientific notation but only mutiples of 3?\n",
      "ZmirBurger\n",
      "If i only include a specific property in a bicep param template, will it ignore everything else when updating or will it overwrite the default values?\n",
      "user_xyz\n",
      "mlogit: Error in idx_name.dfidx(x) : More than one idx column\n",
      "Kit Johnson\n",
      "In Pandoc, what html markup do I need to target a specific Word style?\n",
      "bdouglas1011\n",
      "oracle free teir account\n",
      "user13708337\n",
      "How to prevent batch script from exiting prematurely?\n",
      "Diego Soto\n",
      "I can&#39;t make a custom widget in Thingsboard\n",
      "Artur\n",
      "Python: problem with multiprocessing.Pool and deleting files (WindowsError: [Error 32])\n",
      "Tim Butler\n",
      "GmailApp.search() doesn&#39;t find recent emails\n",
      "Adrian\n",
      "Converting signs to Roman numerals while preserving conjunctions\n",
      "danvk\n",
      "Dual-axis chart with hover in VegaLite\n",
      "kittygirl\n",
      "How to compare 2 signed number in VerilogHDL?\n",
      "Paul Reggie Valenzuela\n",
      "React WebGL and Unity Integration\n",
      "user29792873\n",
      "R ggplot2 change legend display to left-to-right\n"
     ]
    }
   ],
   "source": [
    "for data in response.json()['items']:\n",
    "   if data['answer_count']==0:\n",
    "         print(data['owner']['display_name'])\n",
    "         print(data['title'])"
   ]
  },
  {
   "cell_type": "code",
   "execution_count": 1,
   "id": "04f01ead-6303-4e4c-acd9-bea7d02c259d",
   "metadata": {},
   "outputs": [
    {
     "ename": "NameError",
     "evalue": "name 'git' is not defined",
     "output_type": "error",
     "traceback": [
      "\u001b[1;31m---------------------------------------------------------------------------\u001b[0m",
      "\u001b[1;31mNameError\u001b[0m                                 Traceback (most recent call last)",
      "Cell \u001b[1;32mIn[1], line 1\u001b[0m\n\u001b[1;32m----> 1\u001b[0m \u001b[43mgit\u001b[49m\n",
      "\u001b[1;31mNameError\u001b[0m: name 'git' is not defined"
     ]
    }
   ],
   "source": [
    "git"
   ]
  },
  {
   "cell_type": "code",
   "execution_count": null,
   "id": "0ec57518-a3cd-4d61-a07d-e9cc53f55caf",
   "metadata": {},
   "outputs": [],
   "source": []
  }
 ],
 "metadata": {
  "kernelspec": {
   "display_name": "Python 3 (ipykernel)",
   "language": "python",
   "name": "python3"
  },
  "language_info": {
   "codemirror_mode": {
    "name": "ipython",
    "version": 3
   },
   "file_extension": ".py",
   "mimetype": "text/x-python",
   "name": "python",
   "nbconvert_exporter": "python",
   "pygments_lexer": "ipython3",
   "version": "3.9.13"
  }
 },
 "nbformat": 4,
 "nbformat_minor": 5
}
