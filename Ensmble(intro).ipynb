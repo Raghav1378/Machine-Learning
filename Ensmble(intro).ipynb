{
 "cells": [
  {
   "cell_type": "markdown",
   "id": "6ca3826b-ea2e-442a-9cb0-eb2990d490f8",
   "metadata": {},
   "source": [
    "# Ensemble  means a collection of machine learning model and we create a big new model then it is called the ensemble learning"
   ]
  },
  {
   "cell_type": "markdown",
   "id": "ab52bb66-d34e-48d5-a7fd-25da548dccb0",
   "metadata": {
    "jp-MarkdownHeadingCollapsed": true
   },
   "source": [
    "# Wisdom of crowd-Lets suppose we have to watch a movie or not if,the movie get a good rating that means that it is great so it means its wisdom of crowd which means that generally a crowd knows the correct answer "
   ]
  },
  {
   "cell_type": "markdown",
   "id": "98b4f25b-65af-4416-9b17-c4b227304939",
   "metadata": {},
   "source": [
    "# Ensemble learning is based on training the base model on the bsais different model at the same time \n",
    "\n",
    "## It can be done by either using multiple data for same model  or you can use multiple types of model for Same data"
   ]
  },
  {
   "cell_type": "markdown",
   "id": "d10501b0-1925-4143-8642-52df70b961ae",
   "metadata": {},
   "source": [
    "# VOting ensemble is based on that the models are based on diffrent algorithims \n",
    "\n",
    "## Lets supposse that we got 3 differnt models(Log,SVm,DT) and we give same data to all of them and then we train them and then we ask the query to all the models in that ensemble and then we will calucluate the vote(it means that we are getting variety of the data)\n"
   ]
  },
  {
   "cell_type": "markdown",
   "id": "f4660e48-d7e3-469b-90f6-5f585bfef759",
   "metadata": {},
   "source": [
    "# Stacking "
   ]
  },
  {
   "cell_type": "markdown",
   "id": "9d579078-f1db-47ce-b64e-600fcfd4cc71",
   "metadata": {},
   "source": [
    "## It is same as Voting ensemble but we add one another model at last which will be train on the data of the prediction made by the 3 diff models that we use and than it will add wieghtage to the  model that has most accuracte prediction "
   ]
  },
  {
   "cell_type": "markdown",
   "id": "a69423a8-bf6f-46cc-8a60-e3b4a5974533",
   "metadata": {},
   "source": [
    "# BAGGING(Bootstrap Aggregation)"
   ]
  },
  {
   "cell_type": "markdown",
   "id": "dd650f44-952c-4e48-a512-cca21645b694",
   "metadata": {},
   "source": [
    "# Lets suppose we got 3 models and all of them are SVM the variety occurs when we give diffrent data to the same models ,WE will give them 3 differnt data to same 3 diffrent model "
   ]
  },
  {
   "cell_type": "code",
   "execution_count": null,
   "id": "c0f46bfb-eda7-437a-8f4f-f6ac333bda1c",
   "metadata": {},
   "outputs": [],
   "source": []
  }
 ],
 "metadata": {
  "kernelspec": {
   "display_name": "Python 3 (ipykernel)",
   "language": "python",
   "name": "python3"
  },
  "language_info": {
   "codemirror_mode": {
    "name": "ipython",
    "version": 3
   },
   "file_extension": ".py",
   "mimetype": "text/x-python",
   "name": "python",
   "nbconvert_exporter": "python",
   "pygments_lexer": "ipython3",
   "version": "3.9.13"
  }
 },
 "nbformat": 4,
 "nbformat_minor": 5
}
